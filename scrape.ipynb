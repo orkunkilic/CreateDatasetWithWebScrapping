{
 "cells": [
  {
   "cell_type": "code",
   "execution_count": 55,
   "metadata": {},
   "outputs": [],
   "source": [
    "from bs4 import BeautifulSoup\n",
    "import requests\n",
    "import pandas as pd"
   ]
  },
  {
   "cell_type": "code",
   "execution_count": 58,
   "metadata": {},
   "outputs": [
    {
     "data": {
      "text/html": [
       "<div>\n",
       "<style scoped>\n",
       "    .dataframe tbody tr th:only-of-type {\n",
       "        vertical-align: middle;\n",
       "    }\n",
       "\n",
       "    .dataframe tbody tr th {\n",
       "        vertical-align: top;\n",
       "    }\n",
       "\n",
       "    .dataframe thead th {\n",
       "        text-align: right;\n",
       "    }\n",
       "</style>\n",
       "<table border=\"1\" class=\"dataframe\">\n",
       "  <thead>\n",
       "    <tr style=\"text-align: right;\">\n",
       "      <th></th>\n",
       "      <th>name</th>\n",
       "      <th>price</th>\n",
       "      <th>size</th>\n",
       "      <th>storage</th>\n",
       "      <th>ram</th>\n",
       "      <th>battery</th>\n",
       "    </tr>\n",
       "  </thead>\n",
       "  <tbody>\n",
       "  </tbody>\n",
       "</table>\n",
       "</div>"
      ],
      "text/plain": [
       "Empty DataFrame\n",
       "Columns: [name, price, size, storage, ram, battery]\n",
       "Index: []"
      ]
     },
     "execution_count": 58,
     "metadata": {},
     "output_type": "execute_result"
    }
   ],
   "source": [
    "df = pd.DataFrame(columns=['name', 'price', 'size', 'storage', 'ram', 'battery'])\n",
    "df.head()"
   ]
  },
  {
   "cell_type": "code",
   "execution_count": 59,
   "metadata": {
    "scrolled": false
   },
   "outputs": [],
   "source": [
    "for i in range(1, 16):\n",
    "    file = requests.get(f\"https://www.epey.com/akilli-telefonlar/e/Tjtfczo5OiJmaXlhdDpBU0MiOw==/{i}\").text\n",
    "    soup = BeautifulSoup(file, \"lxml\")\n",
    "    ul = soup.find_all('ul', attrs={'class': 'metin row'})\n",
    "    \n",
    "    for row in ul:\n",
    "        name = row.find('a', attrs={'class': 'urunadi'}).text\n",
    "        price = row.find('li', attrs={'class': 'fiyat cell'}).a.text.split()[0].replace('.', ',')\n",
    "        size = row.find('li', attrs={'class': 'ozellik ozellik1 cell'}).text.split()[0]\n",
    "        storage = row.find('li', attrs={'class': 'ozellik ozellik21 cell'}).text.split()[0]\n",
    "        ram = row.find('li', attrs={'class': 'ozellik ozellik14 cell'}).text.split()[0]\n",
    "        battery = row.find('li', attrs={'class': 'ozellik ozellik7 cell'}).text.split()[0]\n",
    "        \n",
    "        df.loc[len(df)] = [name, price, size, storage, ram, battery]\n",
    "    \n"
   ]
  },
  {
   "cell_type": "code",
   "execution_count": 60,
   "metadata": {},
   "outputs": [
    {
     "data": {
      "text/html": [
       "<div>\n",
       "<style scoped>\n",
       "    .dataframe tbody tr th:only-of-type {\n",
       "        vertical-align: middle;\n",
       "    }\n",
       "\n",
       "    .dataframe tbody tr th {\n",
       "        vertical-align: top;\n",
       "    }\n",
       "\n",
       "    .dataframe thead th {\n",
       "        text-align: right;\n",
       "    }\n",
       "</style>\n",
       "<table border=\"1\" class=\"dataframe\">\n",
       "  <thead>\n",
       "    <tr style=\"text-align: right;\">\n",
       "      <th></th>\n",
       "      <th>name</th>\n",
       "      <th>price</th>\n",
       "      <th>size</th>\n",
       "      <th>storage</th>\n",
       "      <th>ram</th>\n",
       "      <th>battery</th>\n",
       "    </tr>\n",
       "  </thead>\n",
       "  <tbody>\n",
       "    <tr>\n",
       "      <th>0</th>\n",
       "      <td>Nokia X (2014) (Çift SIM)</td>\n",
       "      <td>439,00</td>\n",
       "      <td>4.0</td>\n",
       "      <td>4</td>\n",
       "      <td>512</td>\n",
       "      <td>1500</td>\n",
       "    </tr>\n",
       "    <tr>\n",
       "      <th>1</th>\n",
       "      <td>Samsung Galaxy S3 Mini</td>\n",
       "      <td>599,99</td>\n",
       "      <td>4.0</td>\n",
       "      <td>8</td>\n",
       "      <td>1</td>\n",
       "      <td>1500</td>\n",
       "    </tr>\n",
       "    <tr>\n",
       "      <th>2</th>\n",
       "      <td>Samsung Galaxy S3</td>\n",
       "      <td>699,00</td>\n",
       "      <td>4.8</td>\n",
       "      <td>16</td>\n",
       "      <td>1</td>\n",
       "      <td>2100</td>\n",
       "    </tr>\n",
       "    <tr>\n",
       "      <th>3</th>\n",
       "      <td>Samsung Galaxy S4 Mini</td>\n",
       "      <td>749,99</td>\n",
       "      <td>4.3</td>\n",
       "      <td>8</td>\n",
       "      <td>1.5</td>\n",
       "      <td>1900</td>\n",
       "    </tr>\n",
       "    <tr>\n",
       "      <th>4</th>\n",
       "      <td>Samsung Galaxy S4</td>\n",
       "      <td>829,99</td>\n",
       "      <td>5.0</td>\n",
       "      <td>16</td>\n",
       "      <td>2</td>\n",
       "      <td>2600</td>\n",
       "    </tr>\n",
       "  </tbody>\n",
       "</table>\n",
       "</div>"
      ],
      "text/plain": [
       "                        name   price size storage  ram battery\n",
       "0  Nokia X (2014) (Çift SIM)  439,00  4.0       4  512    1500\n",
       "1     Samsung Galaxy S3 Mini  599,99  4.0       8    1    1500\n",
       "2          Samsung Galaxy S3  699,00  4.8      16    1    2100\n",
       "3     Samsung Galaxy S4 Mini  749,99  4.3       8  1.5    1900\n",
       "4          Samsung Galaxy S4  829,99  5.0      16    2    2600"
      ]
     },
     "execution_count": 60,
     "metadata": {},
     "output_type": "execute_result"
    }
   ],
   "source": [
    "df.head()"
   ]
  },
  {
   "cell_type": "code",
   "execution_count": 61,
   "metadata": {},
   "outputs": [
    {
     "data": {
      "text/html": [
       "<div>\n",
       "<style scoped>\n",
       "    .dataframe tbody tr th:only-of-type {\n",
       "        vertical-align: middle;\n",
       "    }\n",
       "\n",
       "    .dataframe tbody tr th {\n",
       "        vertical-align: top;\n",
       "    }\n",
       "\n",
       "    .dataframe thead th {\n",
       "        text-align: right;\n",
       "    }\n",
       "</style>\n",
       "<table border=\"1\" class=\"dataframe\">\n",
       "  <thead>\n",
       "    <tr style=\"text-align: right;\">\n",
       "      <th></th>\n",
       "      <th>name</th>\n",
       "      <th>price</th>\n",
       "      <th>size</th>\n",
       "      <th>storage</th>\n",
       "      <th>ram</th>\n",
       "      <th>battery</th>\n",
       "    </tr>\n",
       "  </thead>\n",
       "  <tbody>\n",
       "    <tr>\n",
       "      <th>490</th>\n",
       "      <td>Apple iPhone 11 Pro Max</td>\n",
       "      <td>15,669,22</td>\n",
       "      <td>6.5</td>\n",
       "      <td>256</td>\n",
       "      <td>4</td>\n",
       "      <td>3969</td>\n",
       "    </tr>\n",
       "    <tr>\n",
       "      <th>491</th>\n",
       "      <td>Apple iPhone 12 Pro</td>\n",
       "      <td>15,999,00</td>\n",
       "      <td>6.1</td>\n",
       "      <td>256</td>\n",
       "      <td>6</td>\n",
       "      <td>2815</td>\n",
       "    </tr>\n",
       "    <tr>\n",
       "      <th>492</th>\n",
       "      <td>Apple iPhone 12 Pro</td>\n",
       "      <td>17,999,00</td>\n",
       "      <td>6.1</td>\n",
       "      <td>512</td>\n",
       "      <td>6</td>\n",
       "      <td>2815</td>\n",
       "    </tr>\n",
       "    <tr>\n",
       "      <th>493</th>\n",
       "      <td>Samsung Galaxy Z Fold2</td>\n",
       "      <td>17,999,90</td>\n",
       "      <td>6.2</td>\n",
       "      <td>256</td>\n",
       "      <td>12</td>\n",
       "      <td>4500</td>\n",
       "    </tr>\n",
       "    <tr>\n",
       "      <th>494</th>\n",
       "      <td>Huawei Mate Xs</td>\n",
       "      <td>29,999,00</td>\n",
       "      <td>6.6</td>\n",
       "      <td>512</td>\n",
       "      <td>8</td>\n",
       "      <td>4500</td>\n",
       "    </tr>\n",
       "  </tbody>\n",
       "</table>\n",
       "</div>"
      ],
      "text/plain": [
       "                        name      price size storage ram battery\n",
       "490  Apple iPhone 11 Pro Max  15,669,22  6.5     256   4    3969\n",
       "491      Apple iPhone 12 Pro  15,999,00  6.1     256   6    2815\n",
       "492      Apple iPhone 12 Pro  17,999,00  6.1     512   6    2815\n",
       "493   Samsung Galaxy Z Fold2  17,999,90  6.2     256  12    4500\n",
       "494           Huawei Mate Xs  29,999,00  6.6     512   8    4500"
      ]
     },
     "execution_count": 61,
     "metadata": {},
     "output_type": "execute_result"
    }
   ],
   "source": [
    "df.tail()"
   ]
  },
  {
   "cell_type": "code",
   "execution_count": 62,
   "metadata": {},
   "outputs": [],
   "source": [
    "df.to_csv('data.csv')"
   ]
  },
  {
   "cell_type": "code",
   "execution_count": null,
   "metadata": {},
   "outputs": [],
   "source": []
  }
 ],
 "metadata": {
  "kernelspec": {
   "display_name": "Python 3",
   "language": "python",
   "name": "python3"
  },
  "language_info": {
   "codemirror_mode": {
    "name": "ipython",
    "version": 3
   },
   "file_extension": ".py",
   "mimetype": "text/x-python",
   "name": "python",
   "nbconvert_exporter": "python",
   "pygments_lexer": "ipython3",
   "version": "3.7.6"
  }
 },
 "nbformat": 4,
 "nbformat_minor": 4
}
